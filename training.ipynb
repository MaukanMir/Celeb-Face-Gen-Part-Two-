{
 "cells": [
  {
   "cell_type": "markdown",
   "metadata": {},
   "source": [
    "# Define Generator"
   ]
  },
  {
   "cell_type": "code",
   "execution_count": null,
   "metadata": {},
   "outputs": [],
   "source": [
    "# define the standalone generator model\n",
    "def define_generator(latent_dim):\n",
    "  model = Sequential()\n",
    "  # foundation for 4x4 image\n",
    "  n_nodes = 256 * 4 * 4\n",
    "  \n",
    "  model.add(Dense(n_nodes, input_dim=latent_dim)) \n",
    "  model.add(LeakyReLU(alpha=0.2))\n",
    "  model.add(Reshape((4, 4, 256)))\n",
    "  # upsample to 8x8\n",
    "  model.add(Conv2DTranspose(128, (4,4), strides=(2,2), padding='same')) \n",
    "  model.add(LeakyReLU(alpha=0.2))\n",
    "    # upsample to 16x16\n",
    "  model.add(Conv2DTranspose(128, (4,4), strides=(2,2), padding='same')) \n",
    "  model.add(LeakyReLU(alpha=0.2))\n",
    "  # upsample to 32x32\n",
    "  model.add(Conv2DTranspose(128, (4,4), strides=(2,2), padding='same')) \n",
    "  model.add(LeakyReLU(alpha=0.2))\n",
    "    # output layer\n",
    "  model.add(Conv2D(3, (3,3), activation='tanh', padding='same')) \n",
    "  return model"
   ]
  },
  {
   "cell_type": "markdown",
   "metadata": {},
   "source": [
    "# Define GAN"
   ]
  },
  {
   "cell_type": "code",
   "execution_count": null,
   "metadata": {},
   "outputs": [],
   "source": [
    "# define the combined generator and discriminator model, for updating the generator\n",
    "def define_gan(g_model, d_model):\n",
    "  # make weights in the discriminator not trainable \n",
    "  d_model.trainable = False\n",
    "  # connect them\n",
    "  model = Sequential()\n",
    "  # add generator\n",
    "  model.add(g_model)\n",
    "  # add the discriminator\n",
    "  model.add(d_model)\n",
    "  # compile model\n",
    "  opt = Adam(learning_rate=0.0002, beta_1=0.5) \n",
    "  model.compile(loss='binary_crossentropy', optimizer=opt) \n",
    "  return model"
   ]
  },
  {
   "cell_type": "markdown",
   "metadata": {},
   "source": []
  }
 ],
 "metadata": {
  "language_info": {
   "name": "python"
  }
 },
 "nbformat": 4,
 "nbformat_minor": 2
}
